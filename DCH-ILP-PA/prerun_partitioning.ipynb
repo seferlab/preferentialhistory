{
 "cells": [
  {
   "cell_type": "code",
   "execution_count": 11,
   "metadata": {},
   "outputs": [],
   "source": [
    "import igraph as ig\n",
    "import leidenalg as la\n",
    "import numpy as np\n",
    "import networkx as nx\n",
    "import json\n",
    "import random"
   ]
  },
  {
   "cell_type": "code",
   "execution_count": 4,
   "metadata": {},
   "outputs": [],
   "source": [
    "n = 50\n",
    "q_con = 0.4\n",
    "q_mod = 0.7\n",
    "Path = \"./Example_data/nG\"+str(n)\n",
    "edges = []\n",
    "adj = np.zeros((n,n))\n",
    "with open(Path + \"/nx_run=1_qmod=\"+str(q_mod) +\"_qcon=\"+ str(q_con) + \"_n=\"+str(n), mode=\"r\") as fp:\n",
    "    for count, line in enumerate(fp):\n",
    "        # start from node 0\n",
    "        edges.append(tuple([eval(x) - 1 for x in line[:-1].split(\" \")]))\n",
    "        adj[edges[-1][0], edges[-1][1]] = adj[edges[-1][1], edges[-1][0]] = 1"
   ]
  },
  {
   "cell_type": "code",
   "execution_count": 5,
   "metadata": {},
   "outputs": [
    {
     "output_type": "execute_result",
     "data": {
      "text/plain": "8"
     },
     "metadata": {},
     "execution_count": 5
    }
   ],
   "source": [
    "g = ig.Graph()\n",
    "g.add_vertices(n)\n",
    "g.add_edges(edges)\n",
    "# partition = la.find_partition(g, la.RBConfigurationVertexPartition, resolution_parameter = 4)\n",
    "partition = la.find_partition(g, la.RBConfigurationVertexPartition, resolution_parameter = 2)\n",
    "groups = np.array(partition.membership)\n",
    "n_clusts = np.max(groups)+1\n",
    "n_clusts"
   ]
  },
  {
   "cell_type": "code",
   "execution_count": 6,
   "metadata": {},
   "outputs": [
    {
     "output_type": "execute_result",
     "data": {
      "text/plain": "<igraph.drawing.Plot at 0x7fa8ea45bc18>",
      "image/svg+xml": "<?xml version=\"1.0\" encoding=\"UTF-8\"?>\n<svg xmlns=\"http://www.w3.org/2000/svg\" xmlns:xlink=\"http://www.w3.org/1999/xlink\" width=\"600pt\" height=\"600pt\" viewBox=\"0 0 600 600\" version=\"1.1\">\n<g id=\"surface2\">\n<rect x=\"0\" y=\"0\" width=\"600\" height=\"600\" style=\"fill:rgb(100%,100%,100%);fill-opacity:1;stroke:none;\"/>\n<path style=\"fill:none;stroke-width:1;stroke-linecap:butt;stroke-linejoin:miter;stroke:rgb(80%,80%,80%);stroke-opacity:1;stroke-miterlimit:10;\" d=\"M 417.371094 62.996094 L 348.390625 77.269531 \"/>\n<path style=\"fill:none;stroke-width:1;stroke-linecap:butt;stroke-linejoin:miter;stroke:rgb(20%,20%,20%);stroke-opacity:1;stroke-miterlimit:10;\" d=\"M 417.371094 62.996094 L 489.835938 79.171875 \"/>\n<path style=\"fill:none;stroke-width:1;stroke-linecap:butt;stroke-linejoin:miter;stroke:rgb(20%,20%,20%);stroke-opacity:1;stroke-miterlimit:10;\" d=\"M 417.371094 62.996094 L 467.71875 57.460938 \"/>\n<path style=\"fill:none;stroke-width:1;stroke-linecap:butt;stroke-linejoin:miter;stroke:rgb(20%,20%,20%);stroke-opacity:1;stroke-miterlimit:10;\" d=\"M 417.371094 62.996094 L 440.683594 99.433594 \"/>\n<path style=\"fill:none;stroke-width:1;stroke-linecap:butt;stroke-linejoin:miter;stroke:rgb(20%,20%,20%);stroke-opacity:1;stroke-miterlimit:10;\" d=\"M 325.65625 413.570312 L 324.449219 385.660156 \"/>\n<path style=\"fill:none;stroke-width:1;stroke-linecap:butt;stroke-linejoin:miter;stroke:rgb(80%,80%,80%);stroke-opacity:1;stroke-miterlimit:10;\" d=\"M 325.65625 413.570312 L 289.386719 441.742188 \"/>\n<path style=\"fill:none;stroke-width:1;stroke-linecap:butt;stroke-linejoin:miter;stroke:rgb(20%,20%,20%);stroke-opacity:1;stroke-miterlimit:10;\" d=\"M 325.65625 413.570312 L 271.105469 374.828125 \"/>\n<path style=\"fill:none;stroke-width:1;stroke-linecap:butt;stroke-linejoin:miter;stroke:rgb(80%,80%,80%);stroke-opacity:1;stroke-miterlimit:10;\" d=\"M 325.65625 413.570312 L 344.941406 453.019531 \"/>\n<path style=\"fill:none;stroke-width:1;stroke-linecap:butt;stroke-linejoin:miter;stroke:rgb(80%,80%,80%);stroke-opacity:1;stroke-miterlimit:10;\" d=\"M 325.65625 413.570312 L 406.632812 411.996094 \"/>\n<path style=\"fill:none;stroke-width:1;stroke-linecap:butt;stroke-linejoin:miter;stroke:rgb(20%,20%,20%);stroke-opacity:1;stroke-miterlimit:10;\" d=\"M 325.65625 413.570312 L 262 441.335938 \"/>\n<path style=\"fill:none;stroke-width:1;stroke-linecap:butt;stroke-linejoin:miter;stroke:rgb(80%,80%,80%);stroke-opacity:1;stroke-miterlimit:10;\" d=\"M 279.664062 302.101562 L 264.367188 327.875 \"/>\n<path style=\"fill:none;stroke-width:1;stroke-linecap:butt;stroke-linejoin:miter;stroke:rgb(20%,20%,20%);stroke-opacity:1;stroke-miterlimit:10;\" d=\"M 279.664062 302.101562 L 333.609375 283.808594 \"/>\n<path style=\"fill:none;stroke-width:1;stroke-linecap:butt;stroke-linejoin:miter;stroke:rgb(20%,20%,20%);stroke-opacity:1;stroke-miterlimit:10;\" d=\"M 279.664062 302.101562 L 258.316406 280.242188 \"/>\n<path style=\"fill:none;stroke-width:1;stroke-linecap:butt;stroke-linejoin:miter;stroke:rgb(20%,20%,20%);stroke-opacity:1;stroke-miterlimit:10;\" d=\"M 279.664062 302.101562 L 206.667969 280.148438 \"/>\n<path style=\"fill:none;stroke-width:1;stroke-linecap:butt;stroke-linejoin:miter;stroke:rgb(20%,20%,20%);stroke-opacity:1;stroke-miterlimit:10;\" d=\"M 279.664062 302.101562 L 320.472656 264.84375 \"/>\n<path style=\"fill:none;stroke-width:1;stroke-linecap:butt;stroke-linejoin:miter;stroke:rgb(80%,80%,80%);stroke-opacity:1;stroke-miterlimit:10;\" d=\"M 264.367188 327.875 L 278.496094 276.308594 \"/>\n<path style=\"fill:none;stroke-width:1;stroke-linecap:butt;stroke-linejoin:miter;stroke:rgb(20%,20%,20%);stroke-opacity:1;stroke-miterlimit:10;\" d=\"M 264.367188 327.875 L 344.980469 327.90625 \"/>\n<path style=\"fill:none;stroke-width:1;stroke-linecap:butt;stroke-linejoin:miter;stroke:rgb(80%,80%,80%);stroke-opacity:1;stroke-miterlimit:10;\" d=\"M 264.367188 327.875 L 271.105469 374.828125 \"/>\n<path style=\"fill:none;stroke-width:1;stroke-linecap:butt;stroke-linejoin:miter;stroke:rgb(80%,80%,80%);stroke-opacity:1;stroke-miterlimit:10;\" d=\"M 264.367188 327.875 L 258.316406 280.242188 \"/>\n<path style=\"fill:none;stroke-width:1;stroke-linecap:butt;stroke-linejoin:miter;stroke:rgb(20%,20%,20%);stroke-opacity:1;stroke-miterlimit:10;\" d=\"M 264.367188 327.875 L 183.542969 328.402344 \"/>\n<path style=\"fill:none;stroke-width:1;stroke-linecap:butt;stroke-linejoin:miter;stroke:rgb(20%,20%,20%);stroke-opacity:1;stroke-miterlimit:10;\" d=\"M 332.089844 197.90625 L 354.8125 159.167969 \"/>\n<path style=\"fill:none;stroke-width:1;stroke-linecap:butt;stroke-linejoin:miter;stroke:rgb(20%,20%,20%);stroke-opacity:1;stroke-miterlimit:10;\" d=\"M 332.089844 197.90625 L 299.347656 235.859375 \"/>\n<path style=\"fill:none;stroke-width:1;stroke-linecap:butt;stroke-linejoin:miter;stroke:rgb(20%,20%,20%);stroke-opacity:1;stroke-miterlimit:10;\" d=\"M 354.8125 159.167969 L 374.089844 118.488281 \"/>\n<path style=\"fill:none;stroke-width:1;stroke-linecap:butt;stroke-linejoin:miter;stroke:rgb(20%,20%,20%);stroke-opacity:1;stroke-miterlimit:10;\" d=\"M 373.671875 494.742188 L 344.941406 453.019531 \"/>\n<path style=\"fill:none;stroke-width:1;stroke-linecap:butt;stroke-linejoin:miter;stroke:rgb(20%,20%,20%);stroke-opacity:1;stroke-miterlimit:10;\" d=\"M 373.671875 494.742188 L 352.269531 539.09375 \"/>\n<path style=\"fill:none;stroke-width:1;stroke-linecap:butt;stroke-linejoin:miter;stroke:rgb(20%,20%,20%);stroke-opacity:1;stroke-miterlimit:10;\" d=\"M 373.671875 494.742188 L 420.269531 522.777344 \"/>\n<path style=\"fill:none;stroke-width:1;stroke-linecap:butt;stroke-linejoin:miter;stroke:rgb(20%,20%,20%);stroke-opacity:1;stroke-miterlimit:10;\" d=\"M 373.671875 494.742188 L 447.222656 500.433594 \"/>\n<path style=\"fill:none;stroke-width:1;stroke-linecap:butt;stroke-linejoin:miter;stroke:rgb(20%,20%,20%);stroke-opacity:1;stroke-miterlimit:10;\" d=\"M 373.671875 494.742188 L 314.9375 483.257812 \"/>\n<path style=\"fill:none;stroke-width:1;stroke-linecap:butt;stroke-linejoin:miter;stroke:rgb(20%,20%,20%);stroke-opacity:1;stroke-miterlimit:10;\" d=\"M 324.449219 385.660156 L 271.105469 374.828125 \"/>\n<path style=\"fill:none;stroke-width:1;stroke-linecap:butt;stroke-linejoin:miter;stroke:rgb(80%,80%,80%);stroke-opacity:1;stroke-miterlimit:10;\" d=\"M 289.386719 441.742188 L 221.800781 409.402344 \"/>\n<path style=\"fill:none;stroke-width:1;stroke-linecap:butt;stroke-linejoin:miter;stroke:rgb(20%,20%,20%);stroke-opacity:1;stroke-miterlimit:10;\" d=\"M 289.386719 441.742188 L 344.941406 453.019531 \"/>\n<path style=\"fill:none;stroke-width:1;stroke-linecap:butt;stroke-linejoin:miter;stroke:rgb(20%,20%,20%);stroke-opacity:1;stroke-miterlimit:10;\" d=\"M 289.386719 441.742188 L 314.9375 483.257812 \"/>\n<path style=\"fill:none;stroke-width:1;stroke-linecap:butt;stroke-linejoin:miter;stroke:rgb(20%,20%,20%);stroke-opacity:1;stroke-miterlimit:10;\" d=\"M 333.609375 283.808594 L 278.496094 276.308594 \"/>\n<path style=\"fill:none;stroke-width:1;stroke-linecap:butt;stroke-linejoin:miter;stroke:rgb(20%,20%,20%);stroke-opacity:1;stroke-miterlimit:10;\" d=\"M 333.609375 283.808594 L 258.316406 280.242188 \"/>\n<path style=\"fill:none;stroke-width:1;stroke-linecap:butt;stroke-linejoin:miter;stroke:rgb(20%,20%,20%);stroke-opacity:1;stroke-miterlimit:10;\" d=\"M 333.609375 283.808594 L 320.472656 264.84375 \"/>\n<path style=\"fill:none;stroke-width:1;stroke-linecap:butt;stroke-linejoin:miter;stroke:rgb(20%,20%,20%);stroke-opacity:1;stroke-miterlimit:10;\" d=\"M 283.898438 57.175781 L 348.390625 77.269531 \"/>\n<path style=\"fill:none;stroke-width:1;stroke-linecap:butt;stroke-linejoin:miter;stroke:rgb(20%,20%,20%);stroke-opacity:1;stroke-miterlimit:10;\" d=\"M 32.902344 307.761719 L 104.691406 318.992188 \"/>\n<path style=\"fill:none;stroke-width:1;stroke-linecap:butt;stroke-linejoin:miter;stroke:rgb(20%,20%,20%);stroke-opacity:1;stroke-miterlimit:10;\" d=\"M 278.496094 276.308594 L 258.316406 280.242188 \"/>\n<path style=\"fill:none;stroke-width:1;stroke-linecap:butt;stroke-linejoin:miter;stroke:rgb(20%,20%,20%);stroke-opacity:1;stroke-miterlimit:10;\" d=\"M 278.496094 276.308594 L 200.105469 255.894531 \"/>\n<path style=\"fill:none;stroke-width:1;stroke-linecap:butt;stroke-linejoin:miter;stroke:rgb(80%,80%,80%);stroke-opacity:1;stroke-miterlimit:10;\" d=\"M 278.496094 276.308594 L 299.347656 235.859375 \"/>\n<path style=\"fill:none;stroke-width:1;stroke-linecap:butt;stroke-linejoin:miter;stroke:rgb(20%,20%,20%);stroke-opacity:1;stroke-miterlimit:10;\" d=\"M 278.496094 276.308594 L 320.472656 264.84375 \"/>\n<path style=\"fill:none;stroke-width:1;stroke-linecap:butt;stroke-linejoin:miter;stroke:rgb(20%,20%,20%);stroke-opacity:1;stroke-miterlimit:10;\" d=\"M 278.496094 276.308594 L 234.097656 249.828125 \"/>\n<path style=\"fill:none;stroke-width:1;stroke-linecap:butt;stroke-linejoin:miter;stroke:rgb(20%,20%,20%);stroke-opacity:1;stroke-miterlimit:10;\" d=\"M 531.960938 46.929688 L 580 20 \"/>\n<path style=\"fill:none;stroke-width:1;stroke-linecap:butt;stroke-linejoin:miter;stroke:rgb(20%,20%,20%);stroke-opacity:1;stroke-miterlimit:10;\" d=\"M 531.960938 46.929688 L 489.835938 79.171875 \"/>\n<path style=\"fill:none;stroke-width:1;stroke-linecap:butt;stroke-linejoin:miter;stroke:rgb(20%,20%,20%);stroke-opacity:1;stroke-miterlimit:10;\" d=\"M 531.960938 46.929688 L 467.71875 57.460938 \"/>\n<path style=\"fill:none;stroke-width:1;stroke-linecap:butt;stroke-linejoin:miter;stroke:rgb(20%,20%,20%);stroke-opacity:1;stroke-miterlimit:10;\" d=\"M 348.390625 77.269531 L 374.089844 118.488281 \"/>\n<path style=\"fill:none;stroke-width:1;stroke-linecap:butt;stroke-linejoin:miter;stroke:rgb(20%,20%,20%);stroke-opacity:1;stroke-miterlimit:10;\" d=\"M 348.390625 77.269531 L 326.46875 36.59375 \"/>\n<path style=\"fill:none;stroke-width:1;stroke-linecap:butt;stroke-linejoin:miter;stroke:rgb(20%,20%,20%);stroke-opacity:1;stroke-miterlimit:10;\" d=\"M 359.398438 580 L 352.269531 539.09375 \"/>\n<path style=\"fill:none;stroke-width:1;stroke-linecap:butt;stroke-linejoin:miter;stroke:rgb(80%,80%,80%);stroke-opacity:1;stroke-miterlimit:10;\" d=\"M 221.800781 409.402344 L 271.105469 374.828125 \"/>\n<path style=\"fill:none;stroke-width:1;stroke-linecap:butt;stroke-linejoin:miter;stroke:rgb(20%,20%,20%);stroke-opacity:1;stroke-miterlimit:10;\" d=\"M 221.800781 409.402344 L 146.417969 427.609375 \"/>\n<path style=\"fill:none;stroke-width:1;stroke-linecap:butt;stroke-linejoin:miter;stroke:rgb(20%,20%,20%);stroke-opacity:1;stroke-miterlimit:10;\" d=\"M 344.980469 327.90625 L 423.03125 319.785156 \"/>\n<path style=\"fill:none;stroke-width:1;stroke-linecap:butt;stroke-linejoin:miter;stroke:rgb(20%,20%,20%);stroke-opacity:1;stroke-miterlimit:10;\" d=\"M 224.957031 482.382812 L 262 441.335938 \"/>\n<path style=\"fill:none;stroke-width:1;stroke-linecap:butt;stroke-linejoin:miter;stroke:rgb(20%,20%,20%);stroke-opacity:1;stroke-miterlimit:10;\" d=\"M 344.941406 453.019531 L 314.9375 483.257812 \"/>\n<path style=\"fill:none;stroke-width:1;stroke-linecap:butt;stroke-linejoin:miter;stroke:rgb(20%,20%,20%);stroke-opacity:1;stroke-miterlimit:10;\" d=\"M 137.132812 234.984375 L 200.105469 255.894531 \"/>\n<path style=\"fill:none;stroke-width:1;stroke-linecap:butt;stroke-linejoin:miter;stroke:rgb(20%,20%,20%);stroke-opacity:1;stroke-miterlimit:10;\" d=\"M 489.835938 79.171875 L 440.683594 99.433594 \"/>\n<path style=\"fill:none;stroke-width:1;stroke-linecap:butt;stroke-linejoin:miter;stroke:rgb(20%,20%,20%);stroke-opacity:1;stroke-miterlimit:10;\" d=\"M 104.691406 318.992188 L 183.542969 328.402344 \"/>\n<path style=\"fill:none;stroke-width:1;stroke-linecap:butt;stroke-linejoin:miter;stroke:rgb(20%,20%,20%);stroke-opacity:1;stroke-miterlimit:10;\" d=\"M 420.269531 522.777344 L 447.222656 500.433594 \"/>\n<path style=\"fill:none;stroke-width:1;stroke-linecap:butt;stroke-linejoin:miter;stroke:rgb(20%,20%,20%);stroke-opacity:1;stroke-miterlimit:10;\" d=\"M 482.367188 417.222656 L 406.632812 411.996094 \"/>\n<path style=\"fill:none;stroke-width:1;stroke-linecap:butt;stroke-linejoin:miter;stroke:rgb(20%,20%,20%);stroke-opacity:1;stroke-miterlimit:10;\" d=\"M 482.367188 417.222656 L 552.375 426.695312 \"/>\n<path style=\"fill:none;stroke-width:1;stroke-linecap:butt;stroke-linejoin:miter;stroke:rgb(20%,20%,20%);stroke-opacity:1;stroke-miterlimit:10;\" d=\"M 467.71875 57.460938 L 440.683594 99.433594 \"/>\n<path style=\"fill:none;stroke-width:1;stroke-linecap:butt;stroke-linejoin:miter;stroke:rgb(20%,20%,20%);stroke-opacity:1;stroke-miterlimit:10;\" d=\"M 258.316406 280.242188 L 200.105469 255.894531 \"/>\n<path style=\"fill:none;stroke-width:1;stroke-linecap:butt;stroke-linejoin:miter;stroke:rgb(80%,80%,80%);stroke-opacity:1;stroke-miterlimit:10;\" d=\"M 258.316406 280.242188 L 299.347656 235.859375 \"/>\n<path style=\"fill:none;stroke-width:1;stroke-linecap:butt;stroke-linejoin:miter;stroke:rgb(20%,20%,20%);stroke-opacity:1;stroke-miterlimit:10;\" d=\"M 258.316406 280.242188 L 206.667969 280.148438 \"/>\n<path style=\"fill:none;stroke-width:1;stroke-linecap:butt;stroke-linejoin:miter;stroke:rgb(20%,20%,20%);stroke-opacity:1;stroke-miterlimit:10;\" d=\"M 258.316406 280.242188 L 320.472656 264.84375 \"/>\n<path style=\"fill:none;stroke-width:1;stroke-linecap:butt;stroke-linejoin:miter;stroke:rgb(20%,20%,20%);stroke-opacity:1;stroke-miterlimit:10;\" d=\"M 258.316406 280.242188 L 234.097656 249.828125 \"/>\n<path style=\"fill:none;stroke-width:1;stroke-linecap:butt;stroke-linejoin:miter;stroke:rgb(80%,80%,80%);stroke-opacity:1;stroke-miterlimit:10;\" d=\"M 374.089844 118.488281 L 440.683594 99.433594 \"/>\n<path style=\"fill:none;stroke-width:1;stroke-linecap:butt;stroke-linejoin:miter;stroke:rgb(20%,20%,20%);stroke-opacity:1;stroke-miterlimit:10;\" d=\"M 200.105469 255.894531 L 206.667969 280.148438 \"/>\n<path style=\"fill:none;stroke-width:1;stroke-linecap:butt;stroke-linejoin:miter;stroke:rgb(20%,20%,20%);stroke-opacity:1;stroke-miterlimit:10;\" d=\"M 206.667969 280.148438 L 234.097656 249.828125 \"/>\n<path style=\"fill:none;stroke-width:1;stroke-linecap:butt;stroke-linejoin:miter;stroke:rgb(20%,20%,20%);stroke-opacity:1;stroke-miterlimit:10;\" d=\"M 20 448.675781 L 74.308594 422.882812 \"/>\n<path style=\"fill:none;stroke-width:1;stroke-linecap:butt;stroke-linejoin:miter;stroke:rgb(20%,20%,20%);stroke-opacity:1;stroke-miterlimit:10;\" d=\"M 20 448.675781 L 90.917969 459.222656 \"/>\n<path style=\"fill:none;stroke-width:1;stroke-linecap:butt;stroke-linejoin:miter;stroke:rgb(20%,20%,20%);stroke-opacity:1;stroke-miterlimit:10;\" d=\"M 74.308594 422.882812 L 146.417969 427.609375 \"/>\n<path style=\"fill:none;stroke-width:1;stroke-linecap:butt;stroke-linejoin:miter;stroke:rgb(20%,20%,20%);stroke-opacity:1;stroke-miterlimit:10;\" d=\"M 53.75 495.523438 L 90.917969 459.222656 \"/>\n<path style=\"fill:none;stroke-width:1;stroke-linecap:butt;stroke-linejoin:miter;stroke:rgb(20%,20%,20%);stroke-opacity:1;stroke-miterlimit:10;\" d=\"M 146.417969 427.609375 L 90.917969 459.222656 \"/>\n<path style=\"fill-rule:nonzero;fill:rgb(100%,0%,100%);fill-opacity:1;stroke-width:1;stroke-linecap:butt;stroke-linejoin:miter;stroke:rgb(0%,0%,0%);stroke-opacity:1;stroke-miterlimit:10;\" d=\"M 427.371094 62.996094 C 427.371094 68.519531 422.894531 72.996094 417.371094 72.996094 C 411.847656 72.996094 407.371094 68.519531 407.371094 62.996094 C 407.371094 57.472656 411.847656 52.996094 417.371094 52.996094 C 422.894531 52.996094 427.371094 57.472656 427.371094 62.996094 \"/>\n<path style=\"fill-rule:nonzero;fill:rgb(50.196078%,50.196078%,50.196078%);fill-opacity:1;stroke-width:1;stroke-linecap:butt;stroke-linejoin:miter;stroke:rgb(0%,0%,0%);stroke-opacity:1;stroke-miterlimit:10;\" d=\"M 335.65625 413.570312 C 335.65625 419.09375 331.179688 423.570312 325.65625 423.570312 C 320.132812 423.570312 315.65625 419.09375 315.65625 413.570312 C 315.65625 408.046875 320.132812 403.570312 325.65625 403.570312 C 331.179688 403.570312 335.65625 408.046875 335.65625 413.570312 \"/>\n<path style=\"fill-rule:nonzero;fill:rgb(100%,0%,0%);fill-opacity:1;stroke-width:1;stroke-linecap:butt;stroke-linejoin:miter;stroke:rgb(0%,0%,0%);stroke-opacity:1;stroke-miterlimit:10;\" d=\"M 289.664062 302.101562 C 289.664062 307.625 285.1875 312.101562 279.664062 312.101562 C 274.140625 312.101562 269.664062 307.625 269.664062 302.101562 C 269.664062 296.578125 274.140625 292.101562 279.664062 292.101562 C 285.1875 292.101562 289.664062 296.578125 289.664062 302.101562 \"/>\n<path style=\"fill-rule:nonzero;fill:rgb(100%,100%,0%);fill-opacity:1;stroke-width:1;stroke-linecap:butt;stroke-linejoin:miter;stroke:rgb(0%,0%,0%);stroke-opacity:1;stroke-miterlimit:10;\" d=\"M 274.367188 327.875 C 274.367188 333.398438 269.890625 337.875 264.367188 337.875 C 258.847656 337.875 254.367188 333.398438 254.367188 327.875 C 254.367188 322.351562 258.847656 317.875 264.367188 317.875 C 269.890625 317.875 274.367188 322.351562 274.367188 327.875 \"/>\n<path style=\"fill-rule:nonzero;fill:rgb(0%,0%,100%);fill-opacity:1;stroke-width:1;stroke-linecap:butt;stroke-linejoin:miter;stroke:rgb(0%,0%,0%);stroke-opacity:1;stroke-miterlimit:10;\" d=\"M 342.089844 197.90625 C 342.089844 203.425781 337.613281 207.90625 332.089844 207.90625 C 326.566406 207.90625 322.089844 203.425781 322.089844 197.90625 C 322.089844 192.382812 326.566406 187.90625 332.089844 187.90625 C 337.613281 187.90625 342.089844 192.382812 342.089844 197.90625 \"/>\n<path style=\"fill-rule:nonzero;fill:rgb(0%,0%,100%);fill-opacity:1;stroke-width:1;stroke-linecap:butt;stroke-linejoin:miter;stroke:rgb(0%,0%,0%);stroke-opacity:1;stroke-miterlimit:10;\" d=\"M 364.8125 159.167969 C 364.8125 164.691406 360.335938 169.167969 354.8125 169.167969 C 349.289062 169.167969 344.8125 164.691406 344.8125 159.167969 C 344.8125 153.648438 349.289062 149.167969 354.8125 149.167969 C 360.335938 149.167969 364.8125 153.648438 364.8125 159.167969 \"/>\n<path style=\"fill-rule:nonzero;fill:rgb(0%,100%,0%);fill-opacity:1;stroke-width:1;stroke-linecap:butt;stroke-linejoin:miter;stroke:rgb(0%,0%,0%);stroke-opacity:1;stroke-miterlimit:10;\" d=\"M 383.671875 494.742188 C 383.671875 500.265625 379.195312 504.742188 373.671875 504.742188 C 368.148438 504.742188 363.671875 500.265625 363.671875 494.742188 C 363.671875 489.222656 368.148438 484.742188 373.671875 484.742188 C 379.195312 484.742188 383.671875 489.222656 383.671875 494.742188 \"/>\n<path style=\"fill-rule:nonzero;fill:rgb(50.196078%,50.196078%,50.196078%);fill-opacity:1;stroke-width:1;stroke-linecap:butt;stroke-linejoin:miter;stroke:rgb(0%,0%,0%);stroke-opacity:1;stroke-miterlimit:10;\" d=\"M 334.449219 385.660156 C 334.449219 391.183594 329.96875 395.660156 324.449219 395.660156 C 318.925781 395.660156 314.449219 391.183594 314.449219 385.660156 C 314.449219 380.136719 318.925781 375.660156 324.449219 375.660156 C 329.96875 375.660156 334.449219 380.136719 334.449219 385.660156 \"/>\n<path style=\"fill-rule:nonzero;fill:rgb(0%,100%,0%);fill-opacity:1;stroke-width:1;stroke-linecap:butt;stroke-linejoin:miter;stroke:rgb(0%,0%,0%);stroke-opacity:1;stroke-miterlimit:10;\" d=\"M 299.386719 441.742188 C 299.386719 447.261719 294.910156 451.742188 289.386719 451.742188 C 283.863281 451.742188 279.386719 447.261719 279.386719 441.742188 C 279.386719 436.21875 283.863281 431.742188 289.386719 431.742188 C 294.910156 431.742188 299.386719 436.21875 299.386719 441.742188 \"/>\n<path style=\"fill-rule:nonzero;fill:rgb(100%,0%,0%);fill-opacity:1;stroke-width:1;stroke-linecap:butt;stroke-linejoin:miter;stroke:rgb(0%,0%,0%);stroke-opacity:1;stroke-miterlimit:10;\" d=\"M 343.609375 283.808594 C 343.609375 289.328125 339.132812 293.808594 333.609375 293.808594 C 328.089844 293.808594 323.609375 289.328125 323.609375 283.808594 C 323.609375 278.285156 328.089844 273.808594 333.609375 273.808594 C 339.132812 273.808594 343.609375 278.285156 343.609375 283.808594 \"/>\n<path style=\"fill-rule:nonzero;fill:rgb(0%,0%,100%);fill-opacity:1;stroke-width:1;stroke-linecap:butt;stroke-linejoin:miter;stroke:rgb(0%,0%,0%);stroke-opacity:1;stroke-miterlimit:10;\" d=\"M 293.898438 57.175781 C 293.898438 62.699219 289.421875 67.175781 283.898438 67.175781 C 278.375 67.175781 273.898438 62.699219 273.898438 57.175781 C 273.898438 51.65625 278.375 47.175781 283.898438 47.175781 C 289.421875 47.175781 293.898438 51.65625 293.898438 57.175781 \"/>\n<path style=\"fill-rule:nonzero;fill:rgb(100%,100%,0%);fill-opacity:1;stroke-width:1;stroke-linecap:butt;stroke-linejoin:miter;stroke:rgb(0%,0%,0%);stroke-opacity:1;stroke-miterlimit:10;\" d=\"M 42.902344 307.761719 C 42.902344 313.285156 38.425781 317.761719 32.902344 317.761719 C 27.378906 317.761719 22.902344 313.285156 22.902344 307.761719 C 22.902344 302.238281 27.378906 297.761719 32.902344 297.761719 C 38.425781 297.761719 42.902344 302.238281 42.902344 307.761719 \"/>\n<path style=\"fill-rule:nonzero;fill:rgb(100%,0%,0%);fill-opacity:1;stroke-width:1;stroke-linecap:butt;stroke-linejoin:miter;stroke:rgb(0%,0%,0%);stroke-opacity:1;stroke-miterlimit:10;\" d=\"M 288.496094 276.308594 C 288.496094 281.832031 284.015625 286.308594 278.496094 286.308594 C 272.972656 286.308594 268.496094 281.832031 268.496094 276.308594 C 268.496094 270.785156 272.972656 266.308594 278.496094 266.308594 C 284.015625 266.308594 288.496094 270.785156 288.496094 276.308594 \"/>\n<path style=\"fill-rule:nonzero;fill:rgb(100%,0%,100%);fill-opacity:1;stroke-width:1;stroke-linecap:butt;stroke-linejoin:miter;stroke:rgb(0%,0%,0%);stroke-opacity:1;stroke-miterlimit:10;\" d=\"M 541.960938 46.929688 C 541.960938 52.453125 537.480469 56.929688 531.960938 56.929688 C 526.4375 56.929688 521.960938 52.453125 521.960938 46.929688 C 521.960938 41.40625 526.4375 36.929688 531.960938 36.929688 C 537.480469 36.929688 541.960938 41.40625 541.960938 46.929688 \"/>\n<path style=\"fill-rule:nonzero;fill:rgb(0%,0%,100%);fill-opacity:1;stroke-width:1;stroke-linecap:butt;stroke-linejoin:miter;stroke:rgb(0%,0%,0%);stroke-opacity:1;stroke-miterlimit:10;\" d=\"M 358.390625 77.269531 C 358.390625 82.792969 353.914062 87.269531 348.390625 87.269531 C 342.867188 87.269531 338.390625 82.792969 338.390625 77.269531 C 338.390625 71.746094 342.867188 67.269531 348.390625 67.269531 C 353.914062 67.269531 358.390625 71.746094 358.390625 77.269531 \"/>\n<path style=\"fill-rule:nonzero;fill:rgb(0%,100%,0%);fill-opacity:1;stroke-width:1;stroke-linecap:butt;stroke-linejoin:miter;stroke:rgb(0%,0%,0%);stroke-opacity:1;stroke-miterlimit:10;\" d=\"M 369.398438 580 C 369.398438 585.523438 364.921875 590 359.398438 590 C 353.875 590 349.398438 585.523438 349.398438 580 C 349.398438 574.476562 353.875 570 359.398438 570 C 364.921875 570 369.398438 574.476562 369.398438 580 \"/>\n<path style=\"fill-rule:nonzero;fill:rgb(100%,0%,100%);fill-opacity:1;stroke-width:1;stroke-linecap:butt;stroke-linejoin:miter;stroke:rgb(0%,0%,0%);stroke-opacity:1;stroke-miterlimit:10;\" d=\"M 590 20 C 590 25.523438 585.523438 30 580 30 C 574.476562 30 570 25.523438 570 20 C 570 14.476562 574.476562 10 580 10 C 585.523438 10 590 14.476562 590 20 \"/>\n<path style=\"fill-rule:nonzero;fill:rgb(0%,100%,100%);fill-opacity:1;stroke-width:1;stroke-linecap:butt;stroke-linejoin:miter;stroke:rgb(0%,0%,0%);stroke-opacity:1;stroke-miterlimit:10;\" d=\"M 231.800781 409.402344 C 231.800781 414.925781 227.324219 419.402344 221.800781 419.402344 C 216.28125 419.402344 211.800781 414.925781 211.800781 409.402344 C 211.800781 403.878906 216.28125 399.402344 221.800781 399.402344 C 227.324219 399.402344 231.800781 403.878906 231.800781 409.402344 \"/>\n<path style=\"fill-rule:nonzero;fill:rgb(100%,100%,0%);fill-opacity:1;stroke-width:1;stroke-linecap:butt;stroke-linejoin:miter;stroke:rgb(0%,0%,0%);stroke-opacity:1;stroke-miterlimit:10;\" d=\"M 354.980469 327.90625 C 354.980469 333.429688 350.5 337.90625 344.980469 337.90625 C 339.457031 337.90625 334.980469 333.429688 334.980469 327.90625 C 334.980469 322.382812 339.457031 317.90625 344.980469 317.90625 C 350.5 317.90625 354.980469 322.382812 354.980469 327.90625 \"/>\n<path style=\"fill-rule:nonzero;fill:rgb(50.196078%,50.196078%,50.196078%);fill-opacity:1;stroke-width:1;stroke-linecap:butt;stroke-linejoin:miter;stroke:rgb(0%,0%,0%);stroke-opacity:1;stroke-miterlimit:10;\" d=\"M 281.105469 374.828125 C 281.105469 380.347656 276.628906 384.828125 271.105469 384.828125 C 265.582031 384.828125 261.105469 380.347656 261.105469 374.828125 C 261.105469 369.304688 265.582031 364.828125 271.105469 364.828125 C 276.628906 364.828125 281.105469 369.304688 281.105469 374.828125 \"/>\n<path style=\"fill-rule:nonzero;fill:rgb(50.196078%,50.196078%,50.196078%);fill-opacity:1;stroke-width:1;stroke-linecap:butt;stroke-linejoin:miter;stroke:rgb(0%,0%,0%);stroke-opacity:1;stroke-miterlimit:10;\" d=\"M 234.957031 482.382812 C 234.957031 487.902344 230.480469 492.382812 224.957031 492.382812 C 219.433594 492.382812 214.957031 487.902344 214.957031 482.382812 C 214.957031 476.859375 219.433594 472.382812 224.957031 472.382812 C 230.480469 472.382812 234.957031 476.859375 234.957031 482.382812 \"/>\n<path style=\"fill-rule:nonzero;fill:rgb(0%,100%,0%);fill-opacity:1;stroke-width:1;stroke-linecap:butt;stroke-linejoin:miter;stroke:rgb(0%,0%,0%);stroke-opacity:1;stroke-miterlimit:10;\" d=\"M 354.941406 453.019531 C 354.941406 458.542969 350.464844 463.019531 344.941406 463.019531 C 339.417969 463.019531 334.941406 458.542969 334.941406 453.019531 C 334.941406 447.496094 339.417969 443.019531 344.941406 443.019531 C 350.464844 443.019531 354.941406 447.496094 354.941406 453.019531 \"/>\n<path style=\"fill-rule:nonzero;fill:rgb(100%,0%,0%);fill-opacity:1;stroke-width:1;stroke-linecap:butt;stroke-linejoin:miter;stroke:rgb(0%,0%,0%);stroke-opacity:1;stroke-miterlimit:10;\" d=\"M 147.132812 234.984375 C 147.132812 240.507812 142.652344 244.984375 137.132812 244.984375 C 131.609375 244.984375 127.132812 240.507812 127.132812 234.984375 C 127.132812 229.460938 131.609375 224.984375 137.132812 224.984375 C 142.652344 224.984375 147.132812 229.460938 147.132812 234.984375 \"/>\n<path style=\"fill-rule:nonzero;fill:rgb(0%,100%,0%);fill-opacity:1;stroke-width:1;stroke-linecap:butt;stroke-linejoin:miter;stroke:rgb(0%,0%,0%);stroke-opacity:1;stroke-miterlimit:10;\" d=\"M 362.269531 539.09375 C 362.269531 544.613281 357.792969 549.09375 352.269531 549.09375 C 346.746094 549.09375 342.269531 544.613281 342.269531 539.09375 C 342.269531 533.570312 346.746094 529.09375 352.269531 529.09375 C 357.792969 529.09375 362.269531 533.570312 362.269531 539.09375 \"/>\n<path style=\"fill-rule:nonzero;fill:rgb(100%,0%,100%);fill-opacity:1;stroke-width:1;stroke-linecap:butt;stroke-linejoin:miter;stroke:rgb(0%,0%,0%);stroke-opacity:1;stroke-miterlimit:10;\" d=\"M 499.835938 79.171875 C 499.835938 84.695312 495.359375 89.171875 489.835938 89.171875 C 484.3125 89.171875 479.835938 84.695312 479.835938 79.171875 C 479.835938 73.648438 484.3125 69.171875 489.835938 69.171875 C 495.359375 69.171875 499.835938 73.648438 499.835938 79.171875 \"/>\n<path style=\"fill-rule:nonzero;fill:rgb(100%,100%,0%);fill-opacity:1;stroke-width:1;stroke-linecap:butt;stroke-linejoin:miter;stroke:rgb(0%,0%,0%);stroke-opacity:1;stroke-miterlimit:10;\" d=\"M 114.691406 318.992188 C 114.691406 324.515625 110.214844 328.992188 104.691406 328.992188 C 99.167969 328.992188 94.691406 324.515625 94.691406 318.992188 C 94.691406 313.46875 99.167969 308.992188 104.691406 308.992188 C 110.214844 308.992188 114.691406 313.46875 114.691406 318.992188 \"/>\n<path style=\"fill-rule:nonzero;fill:rgb(0%,100%,0%);fill-opacity:1;stroke-width:1;stroke-linecap:butt;stroke-linejoin:miter;stroke:rgb(0%,0%,0%);stroke-opacity:1;stroke-miterlimit:10;\" d=\"M 430.269531 522.777344 C 430.269531 528.296875 425.792969 532.777344 420.269531 532.777344 C 414.746094 532.777344 410.269531 528.296875 410.269531 522.777344 C 410.269531 517.253906 414.746094 512.777344 420.269531 512.777344 C 425.792969 512.777344 430.269531 517.253906 430.269531 522.777344 \"/>\n<path style=\"fill-rule:nonzero;fill:rgb(50%,0%,0%);fill-opacity:1;stroke-width:1;stroke-linecap:butt;stroke-linejoin:miter;stroke:rgb(0%,0%,0%);stroke-opacity:1;stroke-miterlimit:10;\" d=\"M 492.367188 417.222656 C 492.367188 422.746094 487.890625 427.222656 482.367188 427.222656 C 476.84375 427.222656 472.367188 422.746094 472.367188 417.222656 C 472.367188 411.699219 476.84375 407.222656 482.367188 407.222656 C 487.890625 407.222656 492.367188 411.699219 492.367188 417.222656 \"/>\n<path style=\"fill-rule:nonzero;fill:rgb(100%,0%,100%);fill-opacity:1;stroke-width:1;stroke-linecap:butt;stroke-linejoin:miter;stroke:rgb(0%,0%,0%);stroke-opacity:1;stroke-miterlimit:10;\" d=\"M 477.71875 57.460938 C 477.71875 62.984375 473.242188 67.460938 467.71875 67.460938 C 462.195312 67.460938 457.71875 62.984375 457.71875 57.460938 C 457.71875 51.9375 462.195312 47.460938 467.71875 47.460938 C 473.242188 47.460938 477.71875 51.9375 477.71875 57.460938 \"/>\n<path style=\"fill-rule:nonzero;fill:rgb(100%,0%,0%);fill-opacity:1;stroke-width:1;stroke-linecap:butt;stroke-linejoin:miter;stroke:rgb(0%,0%,0%);stroke-opacity:1;stroke-miterlimit:10;\" d=\"M 268.316406 280.242188 C 268.316406 285.765625 263.835938 290.242188 258.316406 290.242188 C 252.792969 290.242188 248.316406 285.765625 248.316406 280.242188 C 248.316406 274.71875 252.792969 270.242188 258.316406 270.242188 C 263.835938 270.242188 268.316406 274.71875 268.316406 280.242188 \"/>\n<path style=\"fill-rule:nonzero;fill:rgb(0%,0%,100%);fill-opacity:1;stroke-width:1;stroke-linecap:butt;stroke-linejoin:miter;stroke:rgb(0%,0%,0%);stroke-opacity:1;stroke-miterlimit:10;\" d=\"M 384.089844 118.488281 C 384.089844 124.011719 379.613281 128.488281 374.089844 128.488281 C 368.566406 128.488281 364.089844 124.011719 364.089844 118.488281 C 364.089844 112.964844 368.566406 108.488281 374.089844 108.488281 C 379.613281 108.488281 384.089844 112.964844 384.089844 118.488281 \"/>\n<path style=\"fill-rule:nonzero;fill:rgb(100%,0%,0%);fill-opacity:1;stroke-width:1;stroke-linecap:butt;stroke-linejoin:miter;stroke:rgb(0%,0%,0%);stroke-opacity:1;stroke-miterlimit:10;\" d=\"M 210.105469 255.894531 C 210.105469 261.417969 205.628906 265.894531 200.105469 265.894531 C 194.582031 265.894531 190.105469 261.417969 190.105469 255.894531 C 190.105469 250.371094 194.582031 245.894531 200.105469 245.894531 C 205.628906 245.894531 210.105469 250.371094 210.105469 255.894531 \"/>\n<path style=\"fill-rule:nonzero;fill:rgb(0%,100%,0%);fill-opacity:1;stroke-width:1;stroke-linecap:butt;stroke-linejoin:miter;stroke:rgb(0%,0%,0%);stroke-opacity:1;stroke-miterlimit:10;\" d=\"M 457.222656 500.433594 C 457.222656 505.953125 452.746094 510.433594 447.222656 510.433594 C 441.703125 510.433594 437.222656 505.953125 437.222656 500.433594 C 437.222656 494.910156 441.703125 490.433594 447.222656 490.433594 C 452.746094 490.433594 457.222656 494.910156 457.222656 500.433594 \"/>\n<path style=\"fill-rule:nonzero;fill:rgb(0%,0%,100%);fill-opacity:1;stroke-width:1;stroke-linecap:butt;stroke-linejoin:miter;stroke:rgb(0%,0%,0%);stroke-opacity:1;stroke-miterlimit:10;\" d=\"M 309.347656 235.859375 C 309.347656 241.382812 304.871094 245.859375 299.347656 245.859375 C 293.824219 245.859375 289.347656 241.382812 289.347656 235.859375 C 289.347656 230.335938 293.824219 225.859375 299.347656 225.859375 C 304.871094 225.859375 309.347656 230.335938 309.347656 235.859375 \"/>\n<path style=\"fill-rule:nonzero;fill:rgb(100%,100%,0%);fill-opacity:1;stroke-width:1;stroke-linecap:butt;stroke-linejoin:miter;stroke:rgb(0%,0%,0%);stroke-opacity:1;stroke-miterlimit:10;\" d=\"M 193.542969 328.402344 C 193.542969 333.921875 189.066406 338.402344 183.542969 338.402344 C 178.019531 338.402344 173.542969 333.921875 173.542969 328.402344 C 173.542969 322.878906 178.019531 318.402344 183.542969 318.402344 C 189.066406 318.402344 193.542969 322.878906 193.542969 328.402344 \"/>\n<path style=\"fill-rule:nonzero;fill:rgb(50%,0%,0%);fill-opacity:1;stroke-width:1;stroke-linecap:butt;stroke-linejoin:miter;stroke:rgb(0%,0%,0%);stroke-opacity:1;stroke-miterlimit:10;\" d=\"M 416.632812 411.996094 C 416.632812 417.519531 412.15625 421.996094 406.632812 421.996094 C 401.109375 421.996094 396.632812 417.519531 396.632812 411.996094 C 396.632812 406.472656 401.109375 401.996094 406.632812 401.996094 C 412.15625 401.996094 416.632812 406.472656 416.632812 411.996094 \"/>\n<path style=\"fill-rule:nonzero;fill:rgb(50%,0%,0%);fill-opacity:1;stroke-width:1;stroke-linecap:butt;stroke-linejoin:miter;stroke:rgb(0%,0%,0%);stroke-opacity:1;stroke-miterlimit:10;\" d=\"M 562.375 426.695312 C 562.375 432.214844 557.898438 436.695312 552.375 436.695312 C 546.851562 436.695312 542.375 432.214844 542.375 426.695312 C 542.375 421.171875 546.851562 416.695312 552.375 416.695312 C 557.898438 416.695312 562.375 421.171875 562.375 426.695312 \"/>\n<path style=\"fill-rule:nonzero;fill:rgb(100%,0%,0%);fill-opacity:1;stroke-width:1;stroke-linecap:butt;stroke-linejoin:miter;stroke:rgb(0%,0%,0%);stroke-opacity:1;stroke-miterlimit:10;\" d=\"M 216.667969 280.148438 C 216.667969 285.671875 212.191406 290.148438 206.667969 290.148438 C 201.144531 290.148438 196.667969 285.671875 196.667969 280.148438 C 196.667969 274.628906 201.144531 270.148438 206.667969 270.148438 C 212.191406 270.148438 216.667969 274.628906 216.667969 280.148438 \"/>\n<path style=\"fill-rule:nonzero;fill:rgb(0%,100%,100%);fill-opacity:1;stroke-width:1;stroke-linecap:butt;stroke-linejoin:miter;stroke:rgb(0%,0%,0%);stroke-opacity:1;stroke-miterlimit:10;\" d=\"M 30 448.675781 C 30 454.195312 25.523438 458.675781 20 458.675781 C 14.476562 458.675781 10 454.195312 10 448.675781 C 10 443.152344 14.476562 438.675781 20 438.675781 C 25.523438 438.675781 30 443.152344 30 448.675781 \"/>\n<path style=\"fill-rule:nonzero;fill:rgb(100%,100%,0%);fill-opacity:1;stroke-width:1;stroke-linecap:butt;stroke-linejoin:miter;stroke:rgb(0%,0%,0%);stroke-opacity:1;stroke-miterlimit:10;\" d=\"M 433.03125 319.785156 C 433.03125 325.308594 428.554688 329.785156 423.03125 329.785156 C 417.507812 329.785156 413.03125 325.308594 413.03125 319.785156 C 413.03125 314.261719 417.507812 309.785156 423.03125 309.785156 C 428.554688 309.785156 433.03125 314.261719 433.03125 319.785156 \"/>\n<path style=\"fill-rule:nonzero;fill:rgb(100%,0%,0%);fill-opacity:1;stroke-width:1;stroke-linecap:butt;stroke-linejoin:miter;stroke:rgb(0%,0%,0%);stroke-opacity:1;stroke-miterlimit:10;\" d=\"M 330.472656 264.84375 C 330.472656 270.367188 325.996094 274.84375 320.472656 274.84375 C 314.949219 274.84375 310.472656 270.367188 310.472656 264.84375 C 310.472656 259.324219 314.949219 254.84375 320.472656 254.84375 C 325.996094 254.84375 330.472656 259.324219 330.472656 264.84375 \"/>\n<path style=\"fill-rule:nonzero;fill:rgb(0%,100%,100%);fill-opacity:1;stroke-width:1;stroke-linecap:butt;stroke-linejoin:miter;stroke:rgb(0%,0%,0%);stroke-opacity:1;stroke-miterlimit:10;\" d=\"M 84.308594 422.882812 C 84.308594 428.40625 79.832031 432.882812 74.308594 432.882812 C 68.789062 432.882812 64.308594 428.40625 64.308594 422.882812 C 64.308594 417.359375 68.789062 412.882812 74.308594 412.882812 C 79.832031 412.882812 84.308594 417.359375 84.308594 422.882812 \"/>\n<path style=\"fill-rule:nonzero;fill:rgb(0%,100%,100%);fill-opacity:1;stroke-width:1;stroke-linecap:butt;stroke-linejoin:miter;stroke:rgb(0%,0%,0%);stroke-opacity:1;stroke-miterlimit:10;\" d=\"M 63.75 495.523438 C 63.75 501.046875 59.273438 505.523438 53.75 505.523438 C 48.226562 505.523438 43.75 501.046875 43.75 495.523438 C 43.75 490 48.226562 485.523438 53.75 485.523438 C 59.273438 485.523438 63.75 490 63.75 495.523438 \"/>\n<path style=\"fill-rule:nonzero;fill:rgb(0%,100%,0%);fill-opacity:1;stroke-width:1;stroke-linecap:butt;stroke-linejoin:miter;stroke:rgb(0%,0%,0%);stroke-opacity:1;stroke-miterlimit:10;\" d=\"M 324.9375 483.257812 C 324.9375 488.78125 320.460938 493.257812 314.9375 493.257812 C 309.417969 493.257812 304.9375 488.78125 304.9375 483.257812 C 304.9375 477.738281 309.417969 473.257812 314.9375 473.257812 C 320.460938 473.257812 324.9375 477.738281 324.9375 483.257812 \"/>\n<path style=\"fill-rule:nonzero;fill:rgb(100%,0%,0%);fill-opacity:1;stroke-width:1;stroke-linecap:butt;stroke-linejoin:miter;stroke:rgb(0%,0%,0%);stroke-opacity:1;stroke-miterlimit:10;\" d=\"M 244.097656 249.828125 C 244.097656 255.351562 239.621094 259.828125 234.097656 259.828125 C 228.574219 259.828125 224.097656 255.351562 224.097656 249.828125 C 224.097656 244.304688 228.574219 239.828125 234.097656 239.828125 C 239.621094 239.828125 244.097656 244.304688 244.097656 249.828125 \"/>\n<path style=\"fill-rule:nonzero;fill:rgb(50.196078%,50.196078%,50.196078%);fill-opacity:1;stroke-width:1;stroke-linecap:butt;stroke-linejoin:miter;stroke:rgb(0%,0%,0%);stroke-opacity:1;stroke-miterlimit:10;\" d=\"M 272 441.335938 C 272 446.859375 267.523438 451.335938 262 451.335938 C 256.476562 451.335938 252 446.859375 252 441.335938 C 252 435.8125 256.476562 431.335938 262 431.335938 C 267.523438 431.335938 272 435.8125 272 441.335938 \"/>\n<path style=\"fill-rule:nonzero;fill:rgb(0%,100%,100%);fill-opacity:1;stroke-width:1;stroke-linecap:butt;stroke-linejoin:miter;stroke:rgb(0%,0%,0%);stroke-opacity:1;stroke-miterlimit:10;\" d=\"M 156.417969 427.609375 C 156.417969 433.132812 151.9375 437.609375 146.417969 437.609375 C 140.894531 437.609375 136.417969 433.132812 136.417969 427.609375 C 136.417969 422.089844 140.894531 417.609375 146.417969 417.609375 C 151.9375 417.609375 156.417969 422.089844 156.417969 427.609375 \"/>\n<path style=\"fill-rule:nonzero;fill:rgb(0%,0%,100%);fill-opacity:1;stroke-width:1;stroke-linecap:butt;stroke-linejoin:miter;stroke:rgb(0%,0%,0%);stroke-opacity:1;stroke-miterlimit:10;\" d=\"M 336.46875 36.59375 C 336.46875 42.117188 331.992188 46.59375 326.46875 46.59375 C 320.945312 46.59375 316.46875 42.117188 316.46875 36.59375 C 316.46875 31.070312 320.945312 26.59375 326.46875 26.59375 C 331.992188 26.59375 336.46875 31.070312 336.46875 36.59375 \"/>\n<path style=\"fill-rule:nonzero;fill:rgb(100%,0%,100%);fill-opacity:1;stroke-width:1;stroke-linecap:butt;stroke-linejoin:miter;stroke:rgb(0%,0%,0%);stroke-opacity:1;stroke-miterlimit:10;\" d=\"M 450.683594 99.433594 C 450.683594 104.957031 446.207031 109.433594 440.683594 109.433594 C 435.160156 109.433594 430.683594 104.957031 430.683594 99.433594 C 430.683594 93.910156 435.160156 89.433594 440.683594 89.433594 C 446.207031 89.433594 450.683594 93.910156 450.683594 99.433594 \"/>\n<path style=\"fill-rule:nonzero;fill:rgb(0%,100%,100%);fill-opacity:1;stroke-width:1;stroke-linecap:butt;stroke-linejoin:miter;stroke:rgb(0%,0%,0%);stroke-opacity:1;stroke-miterlimit:10;\" d=\"M 100.917969 459.222656 C 100.917969 464.742188 96.441406 469.222656 90.917969 469.222656 C 85.394531 469.222656 80.917969 464.742188 80.917969 459.222656 C 80.917969 453.699219 85.394531 449.222656 90.917969 449.222656 C 96.441406 449.222656 100.917969 453.699219 100.917969 459.222656 \"/>\n</g>\n</svg>\n"
     },
     "metadata": {},
     "execution_count": 6
    }
   ],
   "source": [
    "ig.plot(partition)"
   ]
  },
  {
   "cell_type": "code",
   "execution_count": 7,
   "metadata": {
    "tags": []
   },
   "outputs": [
    {
     "output_type": "stream",
     "name": "stdout",
     "text": "group size: 9\ngroup size: 8\ngroup size: 7\ngroup size: 6\ngroup size: 6\ngroup size: 6\ngroup size: 5\ngroup size: 3\n"
    }
   ],
   "source": [
    "for i in range(n_clusts):\n",
    "    part_i = np.where(groups == i)[0] \n",
    "    print('group size:', len(part_i))"
   ]
  },
  {
   "cell_type": "code",
   "execution_count": 9,
   "metadata": {},
   "outputs": [],
   "source": [
    "def find_shuffle(n_clusts, groups, num = 10):\n",
    "    shuffles = []\n",
    "    from itertools import permutations\n",
    "    permute = list(np.arange(n_clusts))\n",
    "    count = 0\n",
    "\n",
    "    intersection = [[[] for x in range(n_clusts)] for x in range(n_clusts)]\n",
    "    # find intersection\n",
    "    for i in range(n_clusts):\n",
    "        for j in range(i + 1, n_clusts):\n",
    "            group_i = np.where(groups == i)[0]\n",
    "            group_j = np.where(groups == j)[0]\n",
    "            row, col = np.where(adj[group_i,:][:,group_j] != 0)\n",
    "            # partition into two equal size, first part small, second part large\n",
    "            intersection[i][j] = intersection[j][i] =  [x for x in row] + [x for x in col]      \n",
    "\n",
    "    # find three solutions\n",
    "    while count < num:\n",
    "        shuffles.append([])\n",
    "        \n",
    "        # starting cluster for search\n",
    "        selection_pool = set(np.arange(n_clusts))\n",
    "        random.seed(count*2)\n",
    "        start_clust = count * 3 #random.choice(np.arange(n_clusts))\n",
    "        shuffles[-1].append(start_clust)\n",
    "        selection_pool = selection_pool - set(shuffles[-1]).intersection(selection_pool) \n",
    "        # print(selection_pool)\n",
    "\n",
    "        while len(selection_pool) != 0:\n",
    "            for curr_clust in set(np.arange(n_clusts)) - selection_pool:\n",
    "                next_clusts = [x for x in range(n_clusts) if len(intersection[curr_clust][x]) != 0 and x in selection_pool]\n",
    "                shuffles[-1].extend(next_clusts)\n",
    "                # eliminate the selected clusters\n",
    "                selection_pool = selection_pool - set(shuffles[-1]).intersection(selection_pool) \n",
    "        count += 1\n",
    "    return intersection, shuffles"
   ]
  },
  {
   "cell_type": "code",
   "execution_count": 23,
   "metadata": {},
   "outputs": [],
   "source": [
    "_, shuffled_groups = find_shuffle(n_clusts, groups, num = 3)\n",
    "np.savetxt(\"./Example_data/nG50/shuffled_groups.csv\", np.array(shuffled_groups).astype(int), delimiter=',')\n",
    "shuffled_groups = np.genfromtxt('./Example_data/nG50/shuffled_groups.csv',delimiter= ',').astype(int)\n",
    "shuffled_groups = shuffled_groups[1]\n",
    "# shuffled_groups = [2, 5, 0, 3, 6, 1, 4, 7]"
   ]
  },
  {
   "cell_type": "code",
   "execution_count": 24,
   "metadata": {},
   "outputs": [
    {
     "output_type": "execute_result",
     "data": {
      "text/plain": "array([3, 0, 6, 2, 1, 5, 7, 4])"
     },
     "metadata": {},
     "execution_count": 24
    }
   ],
   "source": [
    "shuffled_groups"
   ]
  },
  {
   "cell_type": "code",
   "execution_count": 25,
   "metadata": {
    "tags": []
   },
   "outputs": [
    {
     "output_type": "stream",
     "name": "stdout",
     "text": "group id: 3\nstart nodes [] number 0\nall nodes [34, 3, 18, 39, 25, 11] number 6\n\nadj after\n[]\n\n[[0. 1. 0. 0. 1. 0.]\n [1. 0. 1. 0. 0. 0.]\n [0. 1. 0. 1. 0. 0.]\n [0. 0. 1. 0. 0. 0.]\n [1. 0. 0. 0. 0. 1.]\n [0. 0. 0. 0. 1. 0.]]\n\ngroup id: 0\nintersection nodes w.r.t previous group 3 is [3]\nstart nodes [3, 2] number 2\nall nodes [3, 2, 37, 40, 9, 12, 44, 22, 29, 31] number 10\n\nadj after\n[[0. 1.]\n [1. 0.]]\n\n[[0. 1. 0. 0. 0. 1. 0. 0. 1. 0.]\n [1. 0. 1. 1. 1. 0. 0. 0. 1. 0.]\n [0. 1. 0. 0. 0. 0. 1. 0. 1. 1.]\n [0. 1. 0. 0. 1. 1. 0. 0. 1. 0.]\n [0. 1. 0. 1. 0. 1. 0. 0. 1. 0.]\n [1. 0. 0. 1. 1. 0. 1. 0. 1. 1.]\n [0. 0. 1. 0. 0. 1. 0. 0. 1. 0.]\n [0. 0. 0. 0. 0. 0. 0. 0. 0. 1.]\n [1. 1. 1. 1. 1. 1. 1. 0. 0. 1.]\n [0. 0. 1. 0. 0. 1. 0. 1. 1. 0.]]\n\ngroup id: 6\nintersection nodes w.r.t previous group 3 is [3]\nintersection nodes w.r.t previous group 0 is [3]\nstart nodes [3, 19] number 2\nall nodes [3, 19, 1, 20, 45, 7] number 6\n\nadj after\n[[0. 1.]\n [1. 0.]]\n\n[[0. 1. 0. 0. 0. 0.]\n [1. 0. 1. 0. 0. 1.]\n [0. 1. 0. 0. 1. 1.]\n [0. 0. 0. 0. 1. 0.]\n [0. 0. 1. 1. 0. 0.]\n [0. 1. 1. 0. 0. 0.]]\n\ngroup id: 2\nintersection nodes w.r.t previous group 3 is []\nintersection nodes w.r.t previous group 0 is [12 29]\nintersection nodes w.r.t previous group 6 is []\nstart nodes [12, 33] number 2\nall nodes [12, 33, 4, 5, 10, 14, 47, 30] number 8\n\nadj after\n[[0. 1.]\n [1. 0.]]\n\n[[0. 1. 0. 0. 0. 0. 0. 0.]\n [1. 0. 1. 0. 0. 0. 0. 0.]\n [0. 1. 0. 1. 0. 0. 0. 0.]\n [0. 0. 1. 0. 0. 0. 0. 1.]\n [0. 0. 0. 0. 0. 1. 0. 0.]\n [0. 0. 0. 0. 1. 0. 1. 1.]\n [0. 0. 0. 0. 0. 1. 0. 0.]\n [0. 0. 0. 1. 0. 1. 0. 0.]]\n\ngroup id: 1\nintersection nodes w.r.t previous group 3 is []\nintersection nodes w.r.t previous group 0 is []\nintersection nodes w.r.t previous group 6 is [1]\nintersection nodes w.r.t previous group 2 is []\nstart nodes [1, 8] number 2\nall nodes [1, 8, 32, 6, 43, 15, 21, 23, 26] number 9\n\nadj after\n[[0. 1.]\n [1. 0.]]\n\n[[0. 1. 0. 0. 0. 0. 1. 0. 0.]\n [1. 0. 0. 0. 1. 0. 1. 0. 0.]\n [0. 0. 0. 1. 0. 0. 0. 0. 1.]\n [0. 0. 1. 0. 1. 0. 1. 1. 1.]\n [0. 1. 0. 1. 0. 0. 1. 0. 0.]\n [0. 0. 0. 0. 0. 0. 0. 1. 0.]\n [1. 1. 0. 1. 1. 0. 0. 0. 0.]\n [0. 0. 0. 1. 0. 1. 0. 0. 0.]\n [0. 0. 1. 1. 0. 0. 0. 0. 0.]]\n\ngroup id: 5\nintersection nodes w.r.t previous group 3 is []\nintersection nodes w.r.t previous group 0 is []\nintersection nodes w.r.t previous group 6 is [19]\nintersection nodes w.r.t previous group 2 is []\nintersection nodes w.r.t previous group 1 is [8]\nstart nodes [8, 17] number 2\nall nodes [8, 17, 38, 41, 42, 46, 49] number 7\n\nadj after\n[[0. 1.]\n [1. 0.]]\n\n[[0. 1. 0. 0. 0. 0. 0.]\n [1. 0. 0. 0. 0. 1. 0.]\n [0. 0. 0. 1. 0. 0. 1.]\n [0. 0. 1. 0. 0. 1. 0.]\n [0. 0. 0. 0. 0. 0. 1.]\n [0. 1. 0. 1. 0. 0. 1.]\n [0. 0. 1. 0. 1. 1. 0.]]\n\ngroup id: 7\nintersection nodes w.r.t previous group 3 is []\nintersection nodes w.r.t previous group 0 is []\nintersection nodes w.r.t previous group 6 is [1]\nintersection nodes w.r.t previous group 2 is []\nintersection nodes w.r.t previous group 1 is [1]\nintersection nodes w.r.t previous group 5 is []\nstart nodes [1, 35] number 2\nall nodes [1, 35, 27, 36] number 4\n\nadj after\n[[0. 1.]\n [1. 0.]]\n\n[[0. 1. 0. 0.]\n [1. 0. 1. 0.]\n [0. 1. 0. 1.]\n [0. 0. 1. 0.]]\n\ngroup id: 4\nintersection nodes w.r.t previous group 3 is []\nintersection nodes w.r.t previous group 0 is []\nintersection nodes w.r.t previous group 6 is []\nintersection nodes w.r.t previous group 2 is [14 30]\nintersection nodes w.r.t previous group 1 is []\nintersection nodes w.r.t previous group 5 is []\nintersection nodes w.r.t previous group 7 is []\nstart nodes [14, 0] number 2\nall nodes [14, 0, 13, 16, 48, 24, 28] number 7\n\nadj after\n[[0. 1.]\n [1. 0.]]\n\n[[0. 1. 0. 0. 0. 0. 0.]\n [1. 0. 0. 0. 1. 1. 1.]\n [0. 0. 0. 1. 0. 1. 1.]\n [0. 0. 1. 0. 0. 0. 0.]\n [0. 1. 0. 0. 0. 1. 1.]\n [0. 1. 1. 0. 1. 0. 0.]\n [0. 1. 1. 0. 1. 0. 0.]]\n\n"
    }
   ],
   "source": [
    "last_nodes = []\n",
    "start_nodes = []\n",
    "for idx, group in enumerate(shuffled_groups):\n",
    "    results = {}\n",
    "    curr_group = np.where(groups == group)[0]\n",
    "    # document start nodes for the group \n",
    "    start_nodes.append([])\n",
    "    # document all nodes for the group\n",
    "    last_nodes.append([])\n",
    "    print('group id:', shuffled_groups[idx])\n",
    "\n",
    "    for idx2, pre_group in enumerate(last_nodes[:-1]):\n",
    "        # find intersection nodes between current group and previous group\n",
    "        row, col = np.where(adj[curr_group,:][:,pre_group] != 0)\n",
    "        intersection_nodes = np.unique(np.array(pre_group)[col])\n",
    "        print(\"intersection nodes w.r.t previous group\", shuffled_groups[idx2], 'is', intersection_nodes)\n",
    "        start_nodes[-1] = list(set(start_nodes[-1]) | set(intersection_nodes))\n",
    "    \n",
    "    # incorporating start nodes into current groups\n",
    "    # last_nodes[-1].extend(list(set(curr_group) | set(start_nodes[-1])))\n",
    "\n",
    "    # simple version only incorporate one start node\n",
    "    if len(start_nodes[-1]) != 0:\n",
    "        # make stable\n",
    "        anchor = start_nodes[-1][0]\n",
    "        dup = curr_group[np.where(adj[curr_group,anchor] != 0)[0][0]]\n",
    "        start_nodes[-1] = [anchor, dup]\n",
    "    print(\"start nodes\", start_nodes[-1], \"number\", len(start_nodes[-1]))\n",
    "    \n",
    "    curr_group = list(set(curr_group) - set(start_nodes[-1]))\n",
    "    last_nodes[-1].extend(list(start_nodes[-1]) + list(curr_group))\n",
    "    assert len(np.unique(np.array(last_nodes[-1]))) == len(last_nodes[-1])\n",
    "    print(\"all nodes\", last_nodes[-1], \"number\", len(last_nodes[-1]))\n",
    "    print()\n",
    "\n",
    "    # store the results into dictionary, start from 0\n",
    "    results['start_nodes'] = [int(x) for x in start_nodes[-1]]\n",
    "    results['last_nodes'] = [int(x) for x in last_nodes[-1]]\n",
    "    # index start from 0\n",
    "    adj_start = adj[start_nodes[-1],:][:,start_nodes[-1]]\n",
    "    adj_last = adj[last_nodes[-1],:][:,last_nodes[-1]]\n",
    "\n",
    "    print(\"adj after\")\n",
    "    print(adj_start)\n",
    "    print()\n",
    "    print(adj_last)\n",
    "    print()\n",
    "\n",
    "    # save into results\n",
    "    results['first_graph'] = []\n",
    "    results['last_graph'] = []\n",
    "    row, col = np.where(adj_start != 0 )\n",
    "    for edge in zip(row,col):\n",
    "        edge = [int(x) for x in edge]\n",
    "        # node start from 1\n",
    "        edge[0] = edge[0] + 1\n",
    "        edge[1] = edge[1] + 1\n",
    "        results['first_graph'].append(tuple(edge))\n",
    "\n",
    "    row, col = np.where(adj_last != 0 )\n",
    "    for edge in zip(row,col):\n",
    "        edge = [int(x) for x in edge]\n",
    "        # node start from 1\n",
    "        edge[0] = edge[0] + 1\n",
    "        edge[1] = edge[1] + 1\n",
    "        results['last_graph'].append(tuple(edge))\n",
    "    \n",
    "    # save the results into json\n",
    "    import json\n",
    "    with open(Path + '/group'+str(idx) + '.json','w') as fp:\n",
    "        json.dump(results, fp)"
   ]
  }
 ],
 "metadata": {
  "kernelspec": {
   "display_name": "Python (scRNA-analy)",
   "language": "python",
   "name": "scrna-analy"
  },
  "language_info": {
   "codemirror_mode": {
    "name": "ipython",
    "version": 2
   },
   "file_extension": ".py",
   "mimetype": "text/x-python",
   "name": "python",
   "nbconvert_exporter": "python",
   "pygments_lexer": "ipython2",
   "version": "3.7.3-final"
  }
 },
 "nbformat": 4,
 "nbformat_minor": 2
}