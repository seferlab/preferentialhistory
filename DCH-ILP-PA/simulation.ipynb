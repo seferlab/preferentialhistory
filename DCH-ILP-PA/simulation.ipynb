{
 "metadata": {
  "language_info": {
   "codemirror_mode": {
    "name": "ipython",
    "version": 3
   },
   "file_extension": ".py",
   "mimetype": "text/x-python",
   "name": "python",
   "nbconvert_exporter": "python",
   "pygments_lexer": "ipython3",
   "version": "3.7.3-final"
  },
  "orig_nbformat": 2,
  "kernelspec": {
   "name": "scrna-analy",
   "display_name": "Python (scRNA-analy)"
  }
 },
 "nbformat": 4,
 "nbformat_minor": 2,
 "cells": [
  {
   "source": [
    "# Simulator\n",
    "Generate simulate PPI network using **forward DMC** model given `q_con`, `q_mod` and graph size `n_nodes`"
   ],
   "cell_type": "markdown",
   "metadata": {}
  },
  {
   "cell_type": "code",
   "execution_count": 1,
   "metadata": {},
   "outputs": [],
   "source": [
    "import networkx as nx\n",
    "import random\n",
    "import pathlib"
   ]
  },
  {
   "cell_type": "code",
   "execution_count": 1,
   "metadata": {},
   "outputs": [],
   "source": [
    "def forward_DMC(G, q_mod, q_con):\n",
    "    assert(q_mod < 1 and q_mod > 0)\n",
    "    assert(q_con < 1 and q_con > 0)\n",
    "    #select anchor node\n",
    "    nodes = list(G.nodes())\n",
    "    newnode = sorted(nodes)[-1] + 1\n",
    "    while(True):\n",
    "        #duplicate node and edges\n",
    "        H = G.copy()\n",
    "        # add in new node\n",
    "        H.add_node(newnode)\n",
    "\n",
    "        # randomly choose one node\n",
    "        anchor = random.choice(nodes)\n",
    "        # connect the new node with all anchor node's neighbors\n",
    "        for x in list(G.neighbors(anchor)):\n",
    "            H.add_edge(newnode, x)\n",
    "        #remove edges\n",
    "        for x in list(H.neighbors(newnode)):\n",
    "            one = random.choice([newnode, anchor])\n",
    "            if random.random() < q_mod:\n",
    "                H.remove_edge(one, x)\n",
    "        #add edge to anchor\n",
    "        if random.random() < q_con:\n",
    "            H.add_edge(anchor, newnode)\n",
    "        ##############KEEPING ONLY CONNECTED GRAPHS CHANGE LATER#########################\n",
    "        if (nx.is_connected(H)):\n",
    "            break\n",
    "    # add in the final anchor new node pair\n",
    "    return H, (anchor, newnode)"
   ]
  },
  {
   "cell_type": "code",
   "execution_count": 2,
   "metadata": {},
   "outputs": [],
   "source": [
    "def simulate_evolution(num_nodes, q_mod, q_con):    \n",
    "    G1=nx.Graph()\n",
    "    G1.add_node(1)\n",
    "    G1.add_node(2)\n",
    "    G1.add_edge(1,2)\n",
    "    graph_list = []\n",
    "    graph_list_pairs = []\n",
    "    pair_list = []\n",
    "    #print('G #1 created')\n",
    "    #print(G1.edges())\n",
    "    G = G1\n",
    "    for i in range(3, num_nodes+1):\n",
    "        #print('Creating G#', i-1)\n",
    "        G, pair = forward_DMC(G, q_mod, q_con)\n",
    "        graph_list.append(G)\n",
    "        pair_list.append(pair)\n",
    "        graph_list_pairs.append([])\n",
    "\n",
    "        for x,y in G.edges():\n",
    "            graph_list_pairs[-1].append((x,y))\n",
    "\n",
    "    simulation = {'graph_list': graph_list_pairs, 'anchor_dup_pair': pair_list}    \n",
    "    return graph_list, pair_list, simulation"
   ]
  },
  {
   "cell_type": "code",
   "execution_count": 3,
   "metadata": {},
   "outputs": [],
   "source": [
    "def write_graph(filename, graph):\n",
    "    with open(filename, 'w') as f:\n",
    "        for x,y in graph.edges():\n",
    "            f.write(str(x)+' '+str(y)+'\\n')"
   ]
  },
  {
   "cell_type": "code",
   "execution_count": 5,
   "metadata": {},
   "outputs": [],
   "source": [
    "# number of nodes within PPI network\n",
    "n_nodes = 50\n",
    "\n",
    "# q_mod parameter in DMC model\n",
    "q_mod = 0.7\n",
    "\n",
    "# q_con parameter in DMC model\n",
    "q_con = 0.4\n",
    "\n",
    "# start simulation\n",
    "graph_list, pair_list, simulation = simulate_evolution(num_nodes = n_nodes, q_mod = q_mod, q_con = q_con)\n",
    "\n",
    "# write result\n",
    "write_graph('./Example_data/nG' + str(n_nodes) + '/nx_run=1_qmod='+str(q_mod)+'_qcon='+str(q_con)+'_n='+str(n_nodes), graph_list[-1])\n",
    "with open('./Example_data/nG' + str(n_nodes) + '/ground_truth_qmod=' + str(q_mod) + '_qcon=' +str(q_con),'w') as f:\n",
    "    for x,y in pair_list:\n",
    "        f.write(str(x) + ' '+str(y) +'\\n')"
   ]
  },
  {
   "cell_type": "code",
   "execution_count": null,
   "metadata": {},
   "outputs": [],
   "source": []
  }
 ]
}